{
 "cells": [
  {
   "cell_type": "code",
   "execution_count": 1,
   "metadata": {},
   "outputs": [
    {
     "name": "stdout",
     "output_type": "stream",
     "text": [
      "/asap3/petra3/gpfs/p23/2020/data/11009871/scratch_cc/pymodules\n"
     ]
    }
   ],
   "source": [
    "import os\n",
    "os.sys.path.append(os.path.realpath(\"../pymodules\"))\n",
    "print(os.sys.path[-1])"
   ]
  },
  {
   "cell_type": "code",
   "execution_count": 2,
   "metadata": {},
   "outputs": [],
   "source": [
    "import numpy as np\n",
    "import os\n",
    "import glob\n",
    "import fdmnes\n",
    "import collections\n",
    "import time"
   ]
  },
  {
   "cell_type": "code",
   "execution_count": 3,
   "metadata": {},
   "outputs": [
    {
     "name": "stdout",
     "output_type": "stream",
     "text": [
      "/asap3/petra3/gpfs/p23/2020/data/11009871/scratch_cc/pymodules/fdmnes/__init__.py\n"
     ]
    }
   ],
   "source": [
    "print(fdmnes.__file__)\n",
    "os.environ[\"HOST_NUM_FOR_MUMPS\"]=\"1\" # the way to set number workers for MUMPS :-)\n"
   ]
  },
  {
   "cell_type": "code",
   "execution_count": 4,
   "metadata": {},
   "outputs": [],
   "source": [
    "cif = \"MyBaseFileNameCollCode23076.cif\"\n"
   ]
  },
  {
   "cell_type": "markdown",
   "metadata": {},
   "source": [
    "## create fdmnes-input\n",
    "### load cif to receive all important lattice information (lattice parameters, angles, ...)"
   ]
  },
  {
   "cell_type": "code",
   "execution_count": 5,
   "metadata": {
    "scrolled": true
   },
   "outputs": [
    {
     "name": "stdout",
     "output_type": "stream",
     "text": [
      "Using FDMNES at /software/opt/xray/fdmnes_2020_10_08/bin/fdmnes_linux64\n"
     ]
    },
    {
     "data": {
      "text/plain": [
       "OrderedDict([('Sr1', (0.0, 0.0, 0.0)),\n",
       "             ('Ti1', (0.5, 0.5, 0.5)),\n",
       "             ('O1', (0.0, 0.5, 0.5))])"
      ]
     },
     "execution_count": 5,
     "metadata": {},
     "output_type": "execute_result"
    }
   ],
   "source": [
    "sim = fdmnes.fdmnes(cif)\n",
    "sim.positions\n"
   ]
  },
  {
   "cell_type": "markdown",
   "metadata": {},
   "source": [
    "### set standard simulation values"
   ]
  },
  {
   "cell_type": "code",
   "execution_count": 7,
   "metadata": {},
   "outputs": [
    {
     "data": {
      "text/plain": [
       "{'Atom': [],\n",
       " 'Absorber': (),\n",
       " 'Z_absorber': 22,\n",
       " 'Range': (-20, 0.2, -8, 0.025, 8, 0.1, 10, 0.2, 20, 0.5, 45),\n",
       " 'Radius': 7.43,\n",
       " 'Rpotmax': 13.8,\n",
       " 'Quadrupole': True,\n",
       " 'Full_atom': True,\n",
       " 'Hubbard_z': [(22, 5.35)],\n",
       " 'Relativism': True,\n",
       " 'Convolution': True,\n",
       " 'Density_all': True,\n",
       " 'SCF': True,\n",
       " 'SCF_exc': False,\n",
       " 'N_self': 100,\n",
       " 'P_self': 0.05,\n",
       " 'Delta_E_conv': 0.1}"
      ]
     },
     "execution_count": 7,
     "metadata": {},
     "output_type": "execute_result"
    }
   ],
   "source": [
    "Run = 17\n",
    "\n",
    "\n",
    "sim.P.Range       = (-20, .2, -8, .025, 8, .1, 10, .2, 20, .5, 45)\n",
    "sim.P.Radius      = 7.43 # \n",
    "sim.P.Rpotmax     = 13.8 # 14.29 # \n",
    "sim.P.Quadrupole  = True\n",
    "# sim.P.Octupole    = True # causes error?!\n",
    "sim.P.Hubbard_z = [(22, 5.35)]\n",
    "sim.P.Relativism  = True\n",
    "sim.P.Convolution = True\n",
    "sim.P.Density_all = True\n",
    "sim.P.SCF         = True\n",
    "sim.P.SCF_exc     = False\n",
    "# sim.P.R_self      = 7.43\n",
    "sim.P.N_self      = 100\n",
    "sim.P.P_self      = 0.05\n",
    "sim.P.Delta_E_conv = 0.1\n",
    "# sim.P.Screening   = [(1,)]\n",
    "\n",
    "# sim.P.lmax        = 1\n",
    "sim.P"
   ]
  },
  {
   "cell_type": "code",
   "execution_count": null,
   "metadata": {},
   "outputs": [],
   "source": []
  },
  {
   "cell_type": "code",
   "execution_count": null,
   "metadata": {
    "scrolled": true
   },
   "outputs": [],
   "source": [
    "sim.fdmnes_exe = \"/opt/xray/fdmnes_2020_10_08/bin/mpirun_fdmnes -np 3\"\n",
    "\n",
    "\n",
    "Rvals = [1.6, 2.6, 3.6, 4.1, 5.0, 5.7, 6.0, 6.6, 7.0, 7.2, 8.0, 8.3, 8.7, 8.9, 9.3, 9.75, 10]\n",
    "\n",
    "\n",
    "for x in Rvals:\n",
    "    folder = os.path.join(\"STO/Run%i\"%Run, \"Radius=%.2f\"%x)\n",
    "\n",
    "    if not os.path.isdir(folder):\n",
    "        os.makedirs(folder)\n",
    "    path = \"%s/STO_inp.txt\"%folder\n",
    "\n",
    "    sim.P.Radius = x\n",
    "\n",
    "    \n",
    "    sim.WriteInputFile(path, overwrite=True)\n",
    "    sim.Run(path, wait=True)\n"
   ]
  },
  {
   "cell_type": "code",
   "execution_count": 11,
   "metadata": {},
   "outputs": [
    {
     "name": "stdout",
     "output_type": "stream",
     "text": [
      "[]\n"
     ]
    }
   ],
   "source": [
    "print(list(sim.jobs.get_finished()))"
   ]
  },
  {
   "cell_type": "code",
   "execution_count": 13,
   "metadata": {},
   "outputs": [
    {
     "name": "stdout",
     "output_type": "stream",
     "text": [
      "[]\n"
     ]
    }
   ],
   "source": [
    "print(list(sim.jobs.get_running()))"
   ]
  },
  {
   "cell_type": "code",
   "execution_count": 18,
   "metadata": {},
   "outputs": [
    {
     "name": "stdout",
     "output_type": "stream",
     "text": [
      "No process was started.\n",
      "\n"
     ]
    },
    {
     "data": {
      "text/plain": [
       "True"
      ]
     },
     "execution_count": 18,
     "metadata": {},
     "output_type": "execute_result"
    }
   ],
   "source": [
    "sim.Status()"
   ]
  },
  {
   "cell_type": "code",
   "execution_count": 22,
   "metadata": {},
   "outputs": [
    {
     "data": {
      "text/plain": [
       "ParamTypes(Basic={'Absorber': (), 'Atom': [], 'Atom_conf': [], 'Cartesian': False, 'Crystal_p': '', 'Density': False, 'Density_all': False, 'Edge': 'K', 'Energpho': False, 'Green': False, 'Hubbard': (), 'Hubbard_z': [], 'Magnetism': False, 'Memory_save': False, 'Polarize': [], 'R_self': 0.0, 'Radius': 5.67, 'Range': (), 'Relativism': False, 'RPA': False, 'Rpotmax': 0.0, 'Screening': [], 'TDDFT': False, 'Z_absorber': 0, 'Full_atom': False}, SCF={'Delta_E_conv': 1.0, 'N_self': 30, 'P_self': 0.1, 'SCF': False, 'SCF_exc': False, 'SCF_mag_free': False}, Multipole={'Dipmag': False, 'E1E2': False, 'E1E3': False, 'E1M1': False, 'E2E2': False, 'E3E3': False, 'M1M1': False, 'No_E1E1': False, 'No_E1E2': False, 'No_E1E3': False, 'No_E2E2': False, 'Octupole': False, 'Quadrupole': False}, RXS={'Azimuth': (), 'Circular': False, 'Dead_layer': 0.0, 'Double_cor': False, 'Full_self_abs': False, 'RXS': [], 'Reflection': (), 'Self_abs': False, 'Step_azim': 2.0, 'Zero_azim': (0.0, 0.0, 0.0), 'Selec_input': (), 'Selec_out': (), 'Energy': ()}, Spin={'Axe_spin': (0.0, 0.0, 1.0), 'Ang_spin': (0.0, 0.0, 0.0), 'Magnetism': False, 'Nonrelat': False, 'Spinorbite': False}, Convolution={'Calculation': [], 'Check_conv': False, 'Convolution': False, 'Dec': False, 'Ecent': 30.0, 'Efermi': -5.0, 'Elarg': 30.0, 'Estart': nan, 'Forbidden': False, 'Fprime': False, 'Fprime_atom': False, 'Gamma_hole': -1.0, 'Gamma_max': 15.0, 'Gamma_var': False, 'Gaussian': 0.0, 'Nocut': False, 'Photoemission': False, 'S0_2': 1.0, 'Scan': [], 'Scan_conv': '', 'Seah': (0.0, 0.0), 'Selec_core': -1, 'Thomson': nan, 'Xan_atom': False}, Extract={'Extract': '', 'Extractpos': (), 'Extractsym': [], 'Rotsup': []}, Experiment={'Gen_shift': (0.0, 0.0, 0), 'Experiment': '', 'Emin': nan, 'Emax': nan, 'Kev': False}, Parameter={'Par_ecent': (0.0, 0.0, 0), 'Par_elarg': (0.0, 0.0, 0), 'Par_efermi': (0.0, 0.0, 0), 'Par_gamma_hole': (0.0, 0.0, 0), 'Par_gamma_max': (0.0, 0.0, 0), 'Par_gauss': (0.0, 0.0, 0), 'Par_shift': (0.0, 0.0, 0), 'Par_aseah': (0.0, 0.0, 0), 'Par_abs_u_iso': (0.0, 0.0, 0)}, Technical={'Check': (), 'check_all': False, 'no_check': False, 'check_pot': False, 'check_mat': False, 'check_sph': False, 'check_coabs': False, 'Sym': '', 'Nonexc': False, 'Excited': False, 'Rmt': nan, 'Iord': 4, 'Adimp': 0.25, 'Lmax': -1}, Fit={})"
      ]
     },
     "execution_count": 22,
     "metadata": {},
     "output_type": "execute_result"
    }
   ],
   "source": [
    "sim.Defaults # check settings.py to modify"
   ]
  },
  {
   "cell_type": "code",
   "execution_count": 24,
   "metadata": {},
   "outputs": [
    {
     "data": {
      "text/plain": [
       "{'Sr1': 38, 'Ti1': 22, 'O1': 8}"
      ]
     },
     "execution_count": 24,
     "metadata": {},
     "output_type": "execute_result"
    }
   ],
   "source": [
    "sim.Z"
   ]
  },
  {
   "cell_type": "code",
   "execution_count": 19,
   "metadata": {},
   "outputs": [
    {
     "data": {
      "text/plain": [
       "['Crystal',\n",
       " 'Defaults',\n",
       " 'DoConvolution',\n",
       " 'LoadInputFile',\n",
       " 'NumCPU',\n",
       " 'P',\n",
       " 'Run',\n",
       " 'Status',\n",
       " 'WriteInputFile',\n",
       " 'Z',\n",
       " '__class__',\n",
       " '__delattr__',\n",
       " '__dict__',\n",
       " '__dir__',\n",
       " '__doc__',\n",
       " '__eq__',\n",
       " '__format__',\n",
       " '__ge__',\n",
       " '__getattribute__',\n",
       " '__gt__',\n",
       " '__hash__',\n",
       " '__init__',\n",
       " '__init_subclass__',\n",
       " '__le__',\n",
       " '__lt__',\n",
       " '__module__',\n",
       " '__ne__',\n",
       " '__new__',\n",
       " '__reduce__',\n",
       " '__reduce_ex__',\n",
       " '__repr__',\n",
       " '__setattr__',\n",
       " '__sizeof__',\n",
       " '__str__',\n",
       " '__subclasshook__',\n",
       " '__weakref__',\n",
       " '_check_sg',\n",
       " '_skip_group',\n",
       " '_spacegroups_flat',\n",
       " 'a',\n",
       " 'add_atom',\n",
       " 'alpha',\n",
       " 'b',\n",
       " 'beta',\n",
       " 'c',\n",
       " 'check_parameters',\n",
       " 'cif',\n",
       " 'current',\n",
       " 'elements',\n",
       " 'fdmnes_dir',\n",
       " 'fdmnes_exe',\n",
       " 'gamma',\n",
       " 'get_DAFS',\n",
       " 'get_XANES',\n",
       " 'jobs',\n",
       " 'load_cif',\n",
       " 'occupancy',\n",
       " 'positions',\n",
       " 'remove_atom',\n",
       " 'sg',\n",
       " 'sg_name',\n",
       " 'sg_num',\n",
       " 'spacegroups',\n",
       " 'verbose',\n",
       " 'wait',\n",
       " 'write_structure']"
      ]
     },
     "execution_count": 19,
     "metadata": {},
     "output_type": "execute_result"
    }
   ],
   "source": [
    "dir(sim)"
   ]
  }
 ],
 "metadata": {
  "kernelspec": {
   "display_name": "Python 3",
   "language": "python",
   "name": "python3"
  },
  "language_info": {
   "codemirror_mode": {
    "name": "ipython",
    "version": 3
   },
   "file_extension": ".py",
   "mimetype": "text/x-python",
   "name": "python",
   "nbconvert_exporter": "python",
   "pygments_lexer": "ipython3",
   "version": "3.6.7"
  }
 },
 "nbformat": 4,
 "nbformat_minor": 2
}
